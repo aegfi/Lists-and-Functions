{
 "cells": [
  {
   "cell_type": "code",
   "execution_count": 16,
   "id": "3557f88f",
   "metadata": {
    "scrolled": true
   },
   "outputs": [
    {
     "name": "stdout",
     "output_type": "stream",
     "text": [
      "['mozzarella', 'Cinderella', 'salmonella']\n",
      "['MOZZARELLA', 'Cinderella', 'salmonella']\n",
      "['MOZZARELLA', 'Cinderella']\n"
     ]
    }
   ],
   "source": [
    "\"\"\"7.4-7.7\"\"\"\n",
    "things=[\"mozzarella\", \"Cinderella\", \"salmonella\"]\n",
    "print(things)\n",
    "things=[\"MOZZARELLA\", \"Cinderella\", \"salmonella\"]\n",
    "print(things)\n",
    "del things[2]\n",
    "print(things)"
   ]
  },
  {
   "cell_type": "code",
   "execution_count": 20,
   "id": "f7a0437c",
   "metadata": {},
   "outputs": [
    {
     "data": {
      "text/plain": [
       "['Harry', 'Ron', 'Hermione']"
      ]
     },
     "execution_count": 20,
     "metadata": {},
     "output_type": "execute_result"
    }
   ],
   "source": [
    "\"\"\"9.1\"\"\"\n",
    "def good():\n",
    "    list=['Harry', 'Ron', 'Hermione']\n",
    "    return list\n",
    "good()"
   ]
  },
  {
   "cell_type": "code",
   "execution_count": 25,
   "id": "e7bc243a",
   "metadata": {},
   "outputs": [
    {
     "name": "stdout",
     "output_type": "stream",
     "text": [
      "5\n"
     ]
    }
   ],
   "source": [
    "\"\"\"9.2\"\"\"\n",
    "def get_odds():\n",
    "    y=0\n",
    "    for x in range(10):\n",
    "        if x % 2!=0:\n",
    "            y=y+1\n",
    "        if y==3:\n",
    "            print(x)\n",
    "            y=y+1\n",
    "get_odds()"
   ]
  }
 ],
 "metadata": {
  "kernelspec": {
   "display_name": "Python 3 (ipykernel)",
   "language": "python",
   "name": "python3"
  },
  "language_info": {
   "codemirror_mode": {
    "name": "ipython",
    "version": 3
   },
   "file_extension": ".py",
   "mimetype": "text/x-python",
   "name": "python",
   "nbconvert_exporter": "python",
   "pygments_lexer": "ipython3",
   "version": "3.11.5"
  }
 },
 "nbformat": 4,
 "nbformat_minor": 5
}
